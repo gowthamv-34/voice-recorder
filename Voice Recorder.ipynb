{
 "cells": [
  {
   "cell_type": "code",
   "execution_count": null,
   "id": "874ba0f9",
   "metadata": {},
   "outputs": [],
   "source": [
    "pip install sounddevice"
   ]
  },
  {
   "cell_type": "code",
   "execution_count": null,
   "id": "a9ef5973",
   "metadata": {},
   "outputs": [],
   "source": [
    "import sounddevice\n",
    "from scipy.io.wavfile import write"
   ]
  },
  {
   "cell_type": "code",
   "execution_count": null,
   "id": "ae01d8d1",
   "metadata": {},
   "outputs": [],
   "source": [
    "fs=44100 #sample_rate"
   ]
  },
  {
   "cell_type": "code",
   "execution_count": null,
   "id": "f52ea460",
   "metadata": {},
   "outputs": [],
   "source": [
    "second=int(input(\"enter the time duration in second:\"))#enter your required time...\n",
    "print(\"Recording....\\n\")\n",
    "record_voice=sounddevice.rec(int(second * fs).samplerate=fs,channels=2)\n",
    "sounddevice.wait()\n",
    "write(\"out.wav\",fs,record_voice)\n",
    "print(\"Finished...\\n please check it\")"
   ]
  },
  {
   "cell_type": "code",
   "execution_count": null,
   "id": "15d7a5e9",
   "metadata": {},
   "outputs": [],
   "source": []
  },
  {
   "cell_type": "code",
   "execution_count": null,
   "id": "5dbc913b",
   "metadata": {},
   "outputs": [],
   "source": []
  }
 ],
 "metadata": {
  "kernelspec": {
   "display_name": "Python 3 (ipykernel)",
   "language": "python",
   "name": "python3"
  },
  "language_info": {
   "codemirror_mode": {
    "name": "ipython",
    "version": 3
   },
   "file_extension": ".py",
   "mimetype": "text/x-python",
   "name": "python",
   "nbconvert_exporter": "python",
   "pygments_lexer": "ipython3",
   "version": "3.9.12"
  }
 },
 "nbformat": 4,
 "nbformat_minor": 5
}
